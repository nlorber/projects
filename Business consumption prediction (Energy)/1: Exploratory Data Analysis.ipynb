version https://git-lfs.github.com/spec/v1
oid sha256:6a727511e99442b7493e23b23be6306368a63c03480deefb5d48e6115b8648cd
size 12159104
